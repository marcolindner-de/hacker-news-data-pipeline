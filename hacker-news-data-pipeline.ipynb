{
 "cells": [
  {
   "cell_type": "markdown",
   "id": "58eed385",
   "metadata": {},
   "source": [
    "# Hacker News Data Pipeline"
   ]
  },
  {
   "cell_type": "markdown",
   "id": "4a73cf26",
   "metadata": {},
   "source": [
    "## Intro"
   ]
  },
  {
   "cell_type": "markdown",
   "id": "5473b779",
   "metadata": {},
   "source": [
    "We began with the concepts of functional programming, and then built our own data pipeline class in Python. We learned about advanced Python concepts such as the decorators, closures, and good API design. We also learned how to implement a directed acyclic graph as the scheduler for our pipeline.\n",
    "\n",
    "Finally, we built a robust data pipeline that schedules our tasks in the correct order! In this project, we will use the pipeline we have been building, and apply it to a real world data pipeline project. From a JSON API, we will filter, clean, aggregate, and summarize data in a sequence of tasks that will apply these transformations for us.\n",
    "\n",
    "The data we will use comes from a [Hacker News](https://news.ycombinator.com/) (HN) API that returns [JSON data](https://developer.mozilla.org/en-US/docs/Web/JavaScript/Reference/Global_Objects/JSON) of the top stories in 2014 (sample was shrinked to January only to keep the file size smaller). If you're unfamiliar with Hacker News, it's a link aggregator website that users vote up stories that are interesting to the community. It is similar to [Reddit](https://www.reddit.com/), but the community only revolves around on computer science and entrepreneurship posts.\n",
    "\n",
    "<img src=\"hn.png\"/>\n",
    "\n",
    "To make things easier, we have already downloaded a list of JSON posts to a file called `hn_stories_2014.json`. The JSON file contains a single key `stories`, which contains a list of stories (posts). Each post has a set of keys, but we will deal only with the following keys:\n",
    "\n",
    "- `vcreated_at`: A timestamp of the story's creation time.\n",
    "- `created_at_i`: A unix epoch timestamp.\n",
    "- `url`: The URL of the story link.\n",
    "- `objectID`: The ID of the story.\n",
    "- `author`: The story's author (username on HN).\n",
    "- `points`: The number of upvotes the story had.\n",
    "- `title`: The headline of the post.\n",
    "- `num_comments`: The number of a comments a post has.\n",
    "\n",
    "Here's an example of the full list of keys in a story:\n",
    "\n",
    "```JSON\n",
    "{\n",
    "    \"story_text\": \"\",\n",
    "    \"created_at\": \"2014-05-29T08:23:46Z\",\n",
    "    \"story_title\": null,\n",
    "    \"story_id\": null,\n",
    "    \"comment_text\": null,\n",
    "    \"created_at_i\": 1401351826,\n",
    "    \"url\": \"http://bits.blogs.nytimes.com/2014/05/28/making-twitter-easier-to-use/\",\n",
    "    \"parent_id\": null,\n",
    "    \"objectID\": \"7815285\",\n",
    "    \"author\": \"Leynos\",\n",
    "    \"points\": 1,\n",
    "    \"title\": \"Making Twitter Easier to Use\",\n",
    "    \"_tags\": [\n",
    "        \"story\",\n",
    "        \"author_Leynos\",\n",
    "        \"story_7815285\"\n",
    "    ],\n",
    "    \"num_comments\": 0,\n",
    "    \"_highlightResult\": {\n",
    "        \"story_text\": {\n",
    "            \"matchedWords\": [],\n",
    "            \"value\": \"\",\n",
    "            \"matchLevel\": \"none\"\n",
    "        },\n",
    "        \"author\": {\n",
    "            \"matchedWords\": [],\n",
    "            \"value\": \"Leynos\",\n",
    "            \"matchLevel\": \"none\"\n",
    "        },\n",
    "        \"url\": {\n",
    "            \"matchedWords\": [],\n",
    "            \"value\": \"http://bits.blogs.nytimes.com/2014/05/28/making-twitter-easier-to-use/\",\n",
    "            \"matchLevel\": \"none\"\n",
    "        },\n",
    "        \"title\": {\n",
    "            \"matchedWords\": [],\n",
    "            \"value\": \"Making Twitter Easier to Use\",\n",
    "            \"matchLevel\": \"none\"\n",
    "        }\n",
    "    },\n",
    "    \"story_url\": null\n",
    "}\n",
    "```\n",
    "\n",
    "Using this dataset, we will run a sequence of basic natural language processing tasks using our `Pipeline` class. The goal will be to find the top 100 keywords of Hacker News posts in 2014. Because Hacker News is the most popular technology social media site, this will give us an understanding of the most talked about tech topics in 2014!"
   ]
  },
  {
   "cell_type": "markdown",
   "id": "1be24b8c",
   "metadata": {},
   "source": [
    "## Setup"
   ]
  },
  {
   "cell_type": "markdown",
   "id": "f396e413",
   "metadata": {},
   "source": [
    "Module imports:"
   ]
  },
  {
   "cell_type": "code",
   "execution_count": 1,
   "id": "17c9a44a",
   "metadata": {},
   "outputs": [],
   "source": [
    "import json\n",
    "import io\n",
    "import datetime\n",
    "import csv\n",
    "import string\n",
    "\n",
    "# self implemented modules\n",
    "from pipeline import Pipeline\n",
    "from pipeline import build_csv\n",
    "from stop_words import stop_words"
   ]
  },
  {
   "cell_type": "markdown",
   "id": "7c091027",
   "metadata": {},
   "source": [
    "Global variables:"
   ]
  },
  {
   "cell_type": "code",
   "execution_count": 2,
   "id": "8dca2fff",
   "metadata": {},
   "outputs": [],
   "source": [
    "json_file = \"hn_stories_2014.json\"\n",
    "pipeline = Pipeline()"
   ]
  },
  {
   "cell_type": "markdown",
   "id": "ccf55c86",
   "metadata": {},
   "source": [
    "## Loading the JSON Data"
   ]
  },
  {
   "cell_type": "markdown",
   "id": "e76c4901",
   "metadata": {},
   "source": [
    "We'll start by loading the JSON file data into Python. Because JSON files resemble a key-value dictionary, the goal is to parse the JSON file into a list of Python `dict` objects. We can accomplish this using the [`json` module](https://docs.python.org/3/library/json.html)."
   ]
  },
  {
   "cell_type": "code",
   "execution_count": 3,
   "id": "cd9990aa",
   "metadata": {},
   "outputs": [],
   "source": [
    "@pipeline.task()\n",
    "def file_to_json():\n",
    "    with open(json_file, 'r') as file:\n",
    "        stories = json.load(file)\n",
    "    return stories['stories']"
   ]
  },
  {
   "cell_type": "code",
   "execution_count": 4,
   "id": "65d3f936",
   "metadata": {},
   "outputs": [
    {
     "name": "stdout",
     "output_type": "stream",
     "text": [
      "{\n",
      "    \"story_text\": \"\",\n",
      "    \"created_at\": \"2014-01-31T23:59:19Z\",\n",
      "    \"story_title\": null,\n",
      "    \"story_id\": null,\n",
      "    \"comment_text\": null,\n",
      "    \"created_at_i\": 1391212759,\n",
      "    \"url\": \"http://www.newrepublic.com/article/115883/drugs-drinking-water-new-epa-study-finds-more-we-knew\",\n",
      "    \"parent_id\": null,\n",
      "    \"objectID\": \"7160071\",\n",
      "    \"author\": \"jrs99\",\n",
      "    \"points\": 2,\n",
      "    \"title\": \"Drugs in water\",\n",
      "    \"_tags\": [\n",
      "        \"story\",\n",
      "        \"author_jrs99\",\n",
      "        \"story_7160071\"\n",
      "    ],\n",
      "    \"num_comments\": 1,\n",
      "    \"_highlightResult\": {\n",
      "        \"story_text\": {\n",
      "            \"matchedWords\": [],\n",
      "            \"value\": \"\",\n",
      "            \"matchLevel\": \"none\"\n",
      "        },\n",
      "        \"author\": {\n",
      "            \"matchedWords\": [],\n",
      "            \"value\": \"jrs99\",\n",
      "            \"matchLevel\": \"none\"\n",
      "        },\n",
      "        \"url\": {\n",
      "            \"matchedWords\": [],\n",
      "            \"value\": \"http://www.newrepublic.com/article/115883/drugs-drinking-water-new-epa-study-finds-more-we-knew\",\n",
      "            \"matchLevel\": \"none\"\n",
      "        },\n",
      "        \"title\": {\n",
      "            \"matchedWords\": [],\n",
      "            \"value\": \"Drugs in water\",\n",
      "            \"matchLevel\": \"none\"\n",
      "        }\n",
      "    },\n",
      "    \"story_url\": null\n",
      "}\n"
     ]
    }
   ],
   "source": [
    "results = pipeline.run()\n",
    "result = results[file_to_json]\n",
    "print(json.dumps(result[0], indent=4))"
   ]
  },
  {
   "cell_type": "markdown",
   "id": "20073fe6",
   "metadata": {},
   "source": [
    "## Filtering most popular Stories"
   ]
  },
  {
   "cell_type": "markdown",
   "id": "4bd3ed8b",
   "metadata": {},
   "source": [
    "Great! Now that we have loaded in all the stories as a list of `dict` objects, we can now operate on them. Let's start by filtering the list of stories to get the most popular stories of the year.\n",
    "\n",
    "Like any social link aggregator site, individual users can post whatever content they want. The reason we want the most popular stories is to ensure that we select stories that were the most talked about during the year. We can filter for popular stories by ensuring they are links (not `Ask HN` posts), have a good number of points, and have some comments."
   ]
  },
  {
   "cell_type": "code",
   "execution_count": 5,
   "id": "1d5b3bcb",
   "metadata": {},
   "outputs": [],
   "source": [
    "@pipeline.task(depends_on=file_to_json)\n",
    "def filter_stories(stories):\n",
    "    filtered = []\n",
    "    for story in stories:\n",
    "        if (story[\"points\"] > 50\n",
    "            and story[\"num_comments\"] > 1\n",
    "            and not story[\"title\"].startswith(\"Ask HN\")):\n",
    "            filtered.append(story)\n",
    "    return (story for story in filtered)"
   ]
  },
  {
   "cell_type": "code",
   "execution_count": 6,
   "id": "afe4bffb",
   "metadata": {
    "scrolled": true
   },
   "outputs": [
    {
     "name": "stdout",
     "output_type": "stream",
     "text": [
      "{\n",
      "    \"story_text\": \"\",\n",
      "    \"created_at\": \"2014-01-31T23:34:59Z\",\n",
      "    \"story_title\": null,\n",
      "    \"story_id\": null,\n",
      "    \"comment_text\": null,\n",
      "    \"created_at_i\": 1391211299,\n",
      "    \"url\": \"http://maxhorstmann.net/2014/01/31/why-dart-should-learn-json-while-its-still-young/\",\n",
      "    \"parent_id\": null,\n",
      "    \"objectID\": \"7159926\",\n",
      "    \"author\": \"Max_Horstmann\",\n",
      "    \"points\": 98,\n",
      "    \"title\": \"Why Dart should learn JSON while it\\u2019s still young\",\n",
      "    \"_tags\": [\n",
      "        \"story\",\n",
      "        \"author_Max_Horstmann\",\n",
      "        \"story_7159926\"\n",
      "    ],\n",
      "    \"num_comments\": 54,\n",
      "    \"_highlightResult\": {\n",
      "        \"story_text\": {\n",
      "            \"matchedWords\": [],\n",
      "            \"value\": \"\",\n",
      "            \"matchLevel\": \"none\"\n",
      "        },\n",
      "        \"author\": {\n",
      "            \"matchedWords\": [],\n",
      "            \"value\": \"Max_Horstmann\",\n",
      "            \"matchLevel\": \"none\"\n",
      "        },\n",
      "        \"url\": {\n",
      "            \"matchedWords\": [],\n",
      "            \"value\": \"http://maxhorstmann.net/2014/01/31/why-dart-should-learn-json-while-its-still-young/\",\n",
      "            \"matchLevel\": \"none\"\n",
      "        },\n",
      "        \"title\": {\n",
      "            \"matchedWords\": [],\n",
      "            \"value\": \"Why Dart should learn JSON while it\\u2019s still young\",\n",
      "            \"matchLevel\": \"none\"\n",
      "        }\n",
      "    },\n",
      "    \"story_url\": null\n",
      "}\n"
     ]
    }
   ],
   "source": [
    "results = pipeline.run()\n",
    "result = results[filter_stories]\n",
    "print(json.dumps(next(result), indent=4))"
   ]
  },
  {
   "cell_type": "markdown",
   "id": "183bcac2",
   "metadata": {},
   "source": [
    "## Converting to CSV"
   ]
  },
  {
   "cell_type": "markdown",
   "id": "b6414a0b",
   "metadata": {},
   "source": [
    "With a reduced set of stories, it's time to write these `dict` objects to a CSV file. The purpose of translating the dictionaries to a CSV is that we want to have a consistent data format when running the later summarizations. By keeping consistent data formats, each of your pipeline tasks will be adaptable with future task requirements."
   ]
  },
  {
   "cell_type": "code",
   "execution_count": 7,
   "id": "405e8507",
   "metadata": {},
   "outputs": [],
   "source": [
    "@pipeline.task(depends_on=filter_stories)\n",
    "def json_to_csv(stories):\n",
    "    def parse(story):\n",
    "        return [story['objectID'],\n",
    "                datetime.datetime.strptime(story['created_at'], \"%Y-%m-%dT%H:%M:%SZ\"),\n",
    "                story['url'],\n",
    "                story['points'],\n",
    "                story['title']]\n",
    "    parsed = (parse(story) for story in stories)\n",
    "    header = ['objectID', 'created_at', 'url', 'points', 'title']\n",
    "    return build_csv(parsed, header, io.StringIO())"
   ]
  },
  {
   "cell_type": "code",
   "execution_count": 8,
   "id": "a13f023a",
   "metadata": {
    "scrolled": false
   },
   "outputs": [
    {
     "name": "stdout",
     "output_type": "stream",
     "text": [
      "['objectID', 'created_at', 'url', 'points', 'title']\n",
      "['7159926', '2014-01-31 23:34:59', 'http://maxhorstmann.net/2014/01/31/why-dart-should-learn-json-while-its-still-young/', '98', 'Why Dart should learn JSON while it’s still young']\n",
      "['7159896', '2014-01-31 23:29:22', 'http://voicechatapi.com/?hn', '281', 'Show HN: We just open-sourced a Skype replacement with HTML5']\n",
      "['7159768', '2014-01-31 23:04:18', 'http://stackoverflow.com/questions/1995113/strangest-language-feature/2002154#2002154', '67', 'Strangest Programming Language Feature?']\n"
     ]
    }
   ],
   "source": [
    "results = pipeline.run()\n",
    "result = results[json_to_csv]\n",
    "reader = csv.reader(result)\n",
    "for i in range(4):\n",
    "    print(next(reader))"
   ]
  },
  {
   "cell_type": "markdown",
   "id": "3e122393",
   "metadata": {},
   "source": [
    "## Extract Title Column"
   ]
  },
  {
   "cell_type": "markdown",
   "id": "5e218a0f",
   "metadata": {},
   "source": [
    "Using the CSV file format we created in the previous task, we can now extract the title column. Once we have extracted the titles of each popular post, we can then run the next word frequency task.\n",
    "\n",
    "The steps were: 1. Import `csv` and create a `csv.reader()`` object from the file object. 2. Find the index of the title in the header. 3. Iterate the through the reader, and return each item from the reader in the corresponding title index position."
   ]
  },
  {
   "cell_type": "code",
   "execution_count": 9,
   "id": "2ba02905",
   "metadata": {},
   "outputs": [],
   "source": [
    "@pipeline.task(depends_on=json_to_csv)\n",
    "def extract_titles(csv_file):\n",
    "    reader = csv.reader(csv_file)\n",
    "    header = next(reader)\n",
    "    index_title = header.index('title')\n",
    "    return (line[index_title] for line in reader)"
   ]
  },
  {
   "cell_type": "code",
   "execution_count": 10,
   "id": "25f1d540",
   "metadata": {
    "scrolled": true
   },
   "outputs": [
    {
     "name": "stdout",
     "output_type": "stream",
     "text": [
      "Why Dart should learn JSON while it’s still young\n",
      "Show HN: We just open-sourced a Skype replacement with HTML5\n",
      "Strangest Programming Language Feature?\n"
     ]
    }
   ],
   "source": [
    "results = pipeline.run()\n",
    "result = results[extract_titles]\n",
    "for i in range(3):\n",
    "    print(next(result))"
   ]
  },
  {
   "cell_type": "markdown",
   "id": "39a54574",
   "metadata": {},
   "source": [
    "## Clean the Titles"
   ]
  },
  {
   "cell_type": "markdown",
   "id": "513657ed",
   "metadata": {},
   "source": [
    "Because we're trying to create a word frequency model of words from Hacker News titles, we need a way to create a consistent set of words to use. For example, words like `Google`, `google`, `GooGle?`, and `google.`, all mean the same keyword: `google`. If we were to split the title into words, however, they would all be lumped into different categories.\n",
    "\n",
    "To clean the titles, we should make sure to lower case the titles, and to remove the punctuation. An easy way to rid a string of punctuation is to check each character, determine if it is a letter or punctuation, and only keep the letter. From the `string` package, we are given a handy string constant that contains all the punctuation needed."
   ]
  },
  {
   "cell_type": "code",
   "execution_count": 11,
   "id": "823320ad",
   "metadata": {},
   "outputs": [
    {
     "name": "stdout",
     "output_type": "stream",
     "text": [
      "!\"#$%&'()*+,-./:;<=>?@[\\]^_`{|}~\n"
     ]
    }
   ],
   "source": [
    "print(string.punctuation)"
   ]
  },
  {
   "cell_type": "code",
   "execution_count": 12,
   "id": "25991ae9",
   "metadata": {},
   "outputs": [],
   "source": [
    "@pipeline.task(depends_on=extract_titles)\n",
    "def clean_titles(titles):\n",
    "    def clean(title):\n",
    "        result = title\n",
    "        for char in string.punctuation + '‘’':\n",
    "            result = result.replace(char, '')\n",
    "        return result.lower()\n",
    "    return (clean(title) for title in titles)"
   ]
  },
  {
   "cell_type": "code",
   "execution_count": 13,
   "id": "cf45865e",
   "metadata": {
    "scrolled": true
   },
   "outputs": [
    {
     "name": "stdout",
     "output_type": "stream",
     "text": [
      "why dart should learn json while its still young\n",
      "show hn we just opensourced a skype replacement with html5\n",
      "strangest programming language feature\n"
     ]
    }
   ],
   "source": [
    "results = pipeline.run()\n",
    "result = results[clean_titles]\n",
    "for i in range(3):\n",
    "    print(next(result))"
   ]
  },
  {
   "cell_type": "markdown",
   "id": "f9d3e570",
   "metadata": {},
   "source": [
    "## Create Word Frequency Dictionary"
   ]
  },
  {
   "cell_type": "markdown",
   "id": "3d6666c0",
   "metadata": {},
   "source": [
    "With a cleaned title, we can now build the word frequency dictionary. A word frequency dictionary are key value pairs that connects a word to the number of times it is used in a text. Here's an example of how a word frequency would work on a single string:\n",
    "\n",
    "```python\n",
    "sample_text = \"Wow, the Dataquest Data Engineering track is the best track!\"\n",
    "print(word_freq_from_string(sample_text))\n",
    "```\n",
    "```\n",
    "{'wow': 1, 'the': 2, 'dataquest': 1, 'data': 1, 'engineering': 1, 'track': 2, 'is': 1, 'best': 1}\n",
    "```\n",
    "\n",
    "As you can see, the title has been stripped of its punctuation and lower cased. Furthermore, to find actual keywords, we should enforce the word frequency dictionary to not include stop words. Stop words are words that occur frequently in language like \"the\", \"or\", etc., and are commonly rejected in keyword searches.\n",
    "\n",
    "We have included a module `called stop_words` (the file `stop_words.py`) with a `tuple` of the most common used stop words in the English language. Here's what the sample text would look like without the stop words:\n",
    "\n",
    "```python\n",
    "sample_text = \"Wow, the Dataquest Data Engineering track is the best track!\"\n",
    "print(word_freq_no_stop_words(sample_text))\n",
    "```\n",
    "```\n",
    "{'wow': 1, 'dataquest': 1, 'data': 1, 'engineering': 1, 'track': 2, 'best': 1}\n",
    "```"
   ]
  },
  {
   "cell_type": "code",
   "execution_count": 14,
   "id": "2f1beb61",
   "metadata": {},
   "outputs": [],
   "source": [
    "@pipeline.task(depends_on=clean_titles)\n",
    "def build_keyword_dictionary(titles):\n",
    "    frequencies = {}\n",
    "    for title in titles:\n",
    "        words = [word for word in title.split() if word and word not in stop_words]\n",
    "        for word in words:\n",
    "            if word not in frequencies:\n",
    "                frequencies[word] = 0\n",
    "            frequencies[word] += 1\n",
    "    return frequencies"
   ]
  },
  {
   "cell_type": "code",
   "execution_count": 15,
   "id": "817dbf5b",
   "metadata": {
    "scrolled": true
   },
   "outputs": [
    {
     "name": "stdout",
     "output_type": "stream",
     "text": [
      "32\n",
      "5\n",
      "14\n",
      "6\n"
     ]
    }
   ],
   "source": [
    "results = pipeline.run()\n",
    "result = results[build_keyword_dictionary]\n",
    "print(result['google'])\n",
    "print(result['apple'])\n",
    "print(result['facebook'])\n",
    "print(result['microsoft'])"
   ]
  },
  {
   "cell_type": "markdown",
   "id": "6821588c",
   "metadata": {},
   "source": [
    "## Sorted Top 100 Words"
   ]
  },
  {
   "cell_type": "markdown",
   "id": "5532ec52",
   "metadata": {},
   "source": [
    "Finally, we're ready to sort the top words used in all the titles. In this final task, it's up to you to decide how you want to sort the top words. The goal is to output a list of tuples with (`word`, `frequency`) as the entries sorted from most used, to least most used."
   ]
  },
  {
   "cell_type": "code",
   "execution_count": 16,
   "id": "797b9ea6",
   "metadata": {},
   "outputs": [],
   "source": [
    "@pipeline.task(depends_on=build_keyword_dictionary)\n",
    "def top_100(titles):\n",
    "    return sorted(titles.items(), key=lambda x: x[1], reverse=True)[:100]"
   ]
  },
  {
   "cell_type": "code",
   "execution_count": 17,
   "id": "3f683ecd",
   "metadata": {
    "scrolled": true
   },
   "outputs": [
    {
     "name": "stdout",
     "output_type": "stream",
     "text": [
      "[('new', 46), ('google', 32), ('data', 20), ('nsa', 19), ('python', 18), ('video', 18), ('using', 16), ('open', 16), ('code', 15), ('year', 15), ('bitcoin', 15), ('facebook', 14), ('startup', 14), ('free', 14), ('programming', 13), ('2014', 13), ('use', 13), ('windows', 13), ('make', 12), ('released', 12), ('state', 12), ('javascript', 12), ('court', 12), ('2013', 12), ('internet', 12), ('years', 11), ('web', 11), ('security', 11), ('apps', 11), ('work', 11), ('billion', 11), ('c', 11), ('software', 11), ('users', 10), ('yc', 10), ('linux', 10), ('way', 10), ('mac', 10), ('10', 9), ('hacker', 9), ('twitter', 9), ('source', 9), ('worlds', 9), ('project', 9), ('public', 9), ('1', 9), ('raises', 9), ('dogecoin', 9), ('time', 9), ('man', 9), ('like', 9), ('money', 9), ('stop', 8), ('machine', 8), ('death', 8), ('server', 8), ('github', 8), ('mobile', 8), ('access', 8), ('life', 8), ('os', 8), ('world', 8), ('tech', 8), ('making', 8), ('vs', 8), ('best', 8), ('good', 8), ('ceo', 7), ('ask', 7), ('does', 7), ('amazon', 7), ('big', 7), ('game', 7), ('developers', 7), ('things', 7), ('program', 7), ('need', 7), ('developer', 7), ('buy', 7), ('private', 7), ('report', 7), ('help', 7), ('lost', 7), ('chrome', 7), ('engine', 7), ('built', 7), ('search', 7), ('performance', 7), ('website', 7), ('computer', 7), ('app', 7), ('review', 7), ('business', 7), ('clojure', 7), ('site', 7), ('course', 7), ('language', 6), ('api', 6), ('systems', 6), ('microsoft', 6)]\n"
     ]
    }
   ],
   "source": [
    "results = pipeline.run()\n",
    "result = results[top_100]\n",
    "print(result)"
   ]
  },
  {
   "cell_type": "markdown",
   "id": "7354e97b",
   "metadata": {},
   "source": [
    "## Conclusion"
   ]
  },
  {
   "cell_type": "markdown",
   "id": "4c035739",
   "metadata": {},
   "source": [
    "The final result yielded some interesting keywords. There were terms like `bitcoin` (the cryptocurrency), `nsa` and many others. Even though this was a basic natural language processing task, it did provide some interesting insights into conversations from January 2014. Nonetheless, now that you have created the pipeline, there are additional tasks you can perform with the data.\n",
    "\n",
    "Here are just a few:\n",
    "\n",
    "- Rewrite the `Pipeline` class output to save a file of the output for each task. This will allow you to \"checkpoint\" tasks so they don't have to be run twice.\n",
    "- Use the `nltk` package for more advanced natural language processing tasks.\n",
    "- Convert to a CSV before filtering, so you can keep all the stories from 2014 in a raw file.\n",
    "- Fetch the data from Hacker News directly from a JSON API. Instead of reading from the file we gave, you can perform additional data processing using newer data."
   ]
  }
 ],
 "metadata": {
  "kernelspec": {
   "display_name": "Python 3.9.2 ('.venv': venv)",
   "language": "python",
   "name": "python3"
  },
  "language_info": {
   "codemirror_mode": {
    "name": "ipython",
    "version": 3
   },
   "file_extension": ".py",
   "mimetype": "text/x-python",
   "name": "python",
   "nbconvert_exporter": "python",
   "pygments_lexer": "ipython3",
   "version": "3.9.2"
  },
  "vscode": {
   "interpreter": {
    "hash": "e12356cb888ee40c474064971cedd2c636378b489bca53896025ca57d94f2c97"
   }
  }
 },
 "nbformat": 4,
 "nbformat_minor": 5
}
